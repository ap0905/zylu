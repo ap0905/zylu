{
 "cells": [
  {
   "cell_type": "code",
   "execution_count": 1,
   "id": "94c4308d-f192-432e-a56a-d479f6b80b31",
   "metadata": {},
   "outputs": [
    {
     "name": "stdout",
     "output_type": "stream",
     "text": [
      "<class 'pandas.core.frame.DataFrame'>\n",
      "RangeIndex: 525461 entries, 0 to 525460\n",
      "Data columns (total 8 columns):\n",
      " #   Column       Non-Null Count   Dtype         \n",
      "---  ------       --------------   -----         \n",
      " 0   Invoice      525461 non-null  object        \n",
      " 1   StockCode    525461 non-null  object        \n",
      " 2   Description  522533 non-null  object        \n",
      " 3   Quantity     525461 non-null  int64         \n",
      " 4   InvoiceDate  525461 non-null  datetime64[ns]\n",
      " 5   Price        525461 non-null  float64       \n",
      " 6   Customer ID  417534 non-null  float64       \n",
      " 7   Country      525461 non-null  object        \n",
      "dtypes: datetime64[ns](1), float64(2), int64(1), object(4)\n",
      "memory usage: 32.1+ MB\n",
      "None\n",
      "  Invoice StockCode                          Description  Quantity  \\\n",
      "0  489434     85048  15CM CHRISTMAS GLASS BALL 20 LIGHTS        12   \n",
      "1  489434    79323P                   PINK CHERRY LIGHTS        12   \n",
      "2  489434    79323W                  WHITE CHERRY LIGHTS        12   \n",
      "3  489434     22041         RECORD FRAME 7\" SINGLE SIZE         48   \n",
      "4  489434     21232       STRAWBERRY CERAMIC TRINKET BOX        24   \n",
      "\n",
      "          InvoiceDate  Price  Customer ID         Country  \n",
      "0 2009-12-01 07:45:00   6.95      13085.0  United Kingdom  \n",
      "1 2009-12-01 07:45:00   6.75      13085.0  United Kingdom  \n",
      "2 2009-12-01 07:45:00   6.75      13085.0  United Kingdom  \n",
      "3 2009-12-01 07:45:00   2.10      13085.0  United Kingdom  \n",
      "4 2009-12-01 07:45:00   1.25      13085.0  United Kingdom  \n"
     ]
    }
   ],
   "source": [
    "import pandas as pd\n",
    "import numpy as np\n",
    "\n",
    "file_path = 'online_retail_II.xlsx'\n",
    "df = pd.read_excel(file_path)\n",
    "print(df.info())\n",
    "print(df.head())"
   ]
  },
  {
   "cell_type": "code",
   "execution_count": 2,
   "id": "eff7322d-e813-44ca-aad6-72ad09f466eb",
   "metadata": {},
   "outputs": [
    {
     "name": "stdout",
     "output_type": "stream",
     "text": [
      "   CustomerID  NumInvoices  TotalQuantity  TotalPrice       FirstPurchase  \\\n",
      "0     12346.0           11             70      372.86 2009-12-14 08:34:00   \n",
      "1     12347.0            2            828     1323.32 2010-10-31 14:20:00   \n",
      "2     12348.0            1            373      222.16 2010-09-27 14:59:00   \n",
      "3     12349.0            3            993     2671.14 2010-04-29 13:20:00   \n",
      "4     12351.0            1            261      300.93 2010-11-29 15:23:00   \n",
      "\n",
      "         LastPurchase  Recency  Frequency  Monetary  \n",
      "0 2010-06-28 13:53:00      164         11    372.86  \n",
      "1 2010-12-07 14:57:00        2          2   1323.32  \n",
      "2 2010-09-27 14:59:00       73          1    222.16  \n",
      "3 2010-10-28 08:23:00       42          3   2671.14  \n",
      "4 2010-11-29 15:23:00       10          1    300.93  \n"
     ]
    }
   ],
   "source": [
    "# Data Cleaning\n",
    "df = df.dropna(subset=['Customer ID'])\n",
    "df = df[df['Quantity'] > 0]\n",
    "df['TotalPrice'] = df['Quantity'] * df['Price']\n",
    "\n",
    "df['InvoiceDate'] = pd.to_datetime(df['InvoiceDate'])\n",
    "df['YearMonth'] = df['InvoiceDate'].apply(lambda x: x.strftime('%Y-%m'))\n",
    "df['Month'] = df['InvoiceDate'].dt.month\n",
    "df['Year'] = df['InvoiceDate'].dt.year\n",
    "\n",
    "customer_df = df.groupby('Customer ID').agg({\n",
    "    'Invoice': 'nunique',\n",
    "    'Quantity': 'sum',\n",
    "    'TotalPrice': 'sum',\n",
    "    'InvoiceDate': ['min', 'max']\n",
    "}).reset_index()\n",
    "\n",
    "customer_df.columns = ['CustomerID', 'NumInvoices', 'TotalQuantity', 'TotalPrice', 'FirstPurchase', 'LastPurchase']\n",
    "\n",
    "customer_df['Recency'] = (customer_df['LastPurchase'].max() - customer_df['LastPurchase']).dt.days\n",
    "customer_df['Frequency'] = customer_df['NumInvoices']\n",
    "customer_df['Monetary'] = customer_df['TotalPrice']\n",
    "\n",
    "print(customer_df.head())\n"
   ]
  },
  {
   "cell_type": "code",
   "execution_count": 16,
   "id": "7ceea8fd-51db-404e-a541-e990ec1fe35d",
   "metadata": {},
   "outputs": [
    {
     "name": "stdout",
     "output_type": "stream",
     "text": [
      "Returning Customer Model Evaluation\n",
      "Accuracy: 1.0\n",
      "Precision: 1.0\n",
      "Recall: 1.0\n",
      "F1 Score: 1.0\n",
      "              precision    recall  f1-score   support\n",
      "\n",
      "           0       1.00      1.00      1.00       284\n",
      "           1       1.00      1.00      1.00       579\n",
      "\n",
      "    accuracy                           1.00       863\n",
      "   macro avg       1.00      1.00      1.00       863\n",
      "weighted avg       1.00      1.00      1.00       863\n",
      "\n",
      "Repeat Purchase Model Evaluation\n",
      "Accuracy: 0.9432213209733488\n",
      "Precision: 0.9315068493150684\n",
      "Recall: 0.7771428571428571\n",
      "F1 Score: 0.8473520249221184\n",
      "              precision    recall  f1-score   support\n",
      "\n",
      "           0       0.95      0.99      0.97       688\n",
      "           1       0.93      0.78      0.85       175\n",
      "\n",
      "    accuracy                           0.94       863\n",
      "   macro avg       0.94      0.88      0.91       863\n",
      "weighted avg       0.94      0.94      0.94       863\n",
      "\n"
     ]
    }
   ],
   "source": [
    "from sklearn.model_selection import train_test_split\n",
    "from sklearn.linear_model import LogisticRegression\n",
    "from sklearn.preprocessing import StandardScaler\n",
    "from sklearn.metrics import classification_report, accuracy_score, precision_score, recall_score, f1_score\n",
    "\n",
    "customer_df['ReturningCustomer'] = (customer_df['Frequency'] > 1).astype(int)\n",
    "\n",
    "X = customer_df[['Recency', 'Frequency', 'Monetary']]\n",
    "y = customer_df['ReturningCustomer']\n",
    "\n",
    "X_train, X_test, y_train, y_test = train_test_split(X, y, test_size=0.2, random_state=42)\n",
    "model = LogisticRegression()\n",
    "model.fit(X_train, y_train)\n",
    "\n",
    "y_pred = model.predict(X_test)\n",
    "print(\"Returning Customer Model Evaluation\")\n",
    "print(\"Accuracy:\", accuracy_score(y_test, y_pred))\n",
    "print(\"Precision:\", precision_score(y_test, y_pred))\n",
    "print(\"Recall:\", recall_score(y_test, y_pred))\n",
    "print(\"F1 Score:\", f1_score(y_test, y_pred))\n",
    "print(classification_report(y_test, y_pred))\n",
    "\n",
    "customer_df['RepeatPurchase'] = (customer_df['TotalQuantity'] > customer_df['TotalQuantity'].mean()).astype(int)\n",
    "y_repeat = customer_df['RepeatPurchase']\n",
    "\n",
    "X_train_repeat, X_test_repeat, y_train_repeat, y_test_repeat = train_test_split(X, y_repeat, test_size=0.2, random_state=42)\n",
    "\n",
    "model_repeat = LogisticRegression()\n",
    "model_repeat.fit(X_train_repeat, y_train_repeat)\n",
    "\n",
    "y_pred_repeat = model_repeat.predict(X_test_repeat)\n",
    "\n",
    "print(\"Repeat Purchase Model Evaluation\")\n",
    "print(\"Accuracy:\", accuracy_score(y_test_repeat, y_pred_repeat))\n",
    "print(\"Precision:\", precision_score(y_test_repeat, y_pred_repeat))\n",
    "print(\"Recall:\", recall_score(y_test_repeat, y_pred_repeat))\n",
    "print(\"F1 Score:\", f1_score(y_test_repeat, y_pred_repeat))\n",
    "\n",
    "print(classification_report(y_test_repeat, y_pred_repeat))\n"
   ]
  },
  {
   "cell_type": "code",
   "execution_count": 7,
   "id": "c462a0a3-c27e-4df8-86a3-04c348798e4b",
   "metadata": {},
   "outputs": [
    {
     "name": "stdout",
     "output_type": "stream",
     "text": [
      "Evaluating RMSE, MAE of algorithm SVD on 5 split(s).\n",
      "\n",
      "                  Fold 1  Fold 2  Fold 3  Fold 4  Fold 5  Mean    Std     \n",
      "RMSE (testset)    0.6186  1.0432  0.7704  0.6018  0.9207  0.7909  0.1711  \n",
      "MAE (testset)     0.1585  0.1614  0.1585  0.1623  0.1619  0.1605  0.0017  \n",
      "Fit time          1.51    1.53    1.78    1.55    1.61    1.60    0.10    \n",
      "Test time         0.19    0.18    0.19    0.19    0.25    0.20    0.03    \n",
      "[('VINTAGE BLUE KITCHEN CABINET', 2.7398447380650484), ('ROTATING SILVER ANGELS T-LIGHT HLDR', 2.679505091524357), ('VINTAGE RED KITCHEN CABINET', 2.511150036428856), ('Manual', 1.7469766581724302), ('PINK PAPER PARASOL ', 1.4184566574886437), ('SMALL FAIRY CAKE FRIDGE MAGNETS', 1.3521500606708203), ('GIANT SEVENTEEN DRAWER SIDEBOARD', 1.3005088667239615), ('AFGHAN SLIPPER SOCK PAIR', 1.0407059539202475), ('FRENCH STYLE WALL DRESSER', 0.9487807620265926), ('BLUE KASHMIRI COFFEE TABLE ', 0.8824401272920581)]\n"
     ]
    }
   ],
   "source": [
    "import pandas as pd\n",
    "import numpy as np\n",
    "from surprise import Dataset, Reader, SVD\n",
    "from surprise.model_selection import cross_validate\n",
    "\n",
    "df['TotalPrice'] = (df['TotalPrice'] - df['TotalPrice'].mean()) / df['TotalPrice'].std()\n",
    "df_filtered = df[['Customer ID', 'StockCode', 'TotalPrice']]\n",
    "reader = Reader(rating_scale=(df_filtered['TotalPrice'].min(), df_filtered['TotalPrice'].max()))\n",
    "\n",
    "data = Dataset.load_from_df(df_filtered, reader)\n",
    "algo = SVD()\n",
    "cross_validate(algo, data, measures=['RMSE', 'MAE'], cv=5, verbose=True)\n",
    "trainset = data.build_full_trainset()\n",
    "algo.fit(trainset)\n",
    "\n",
    "def get_recommendations(customer_id, top_n=10):\n",
    "    items = df['StockCode'].unique()\n",
    "    est_ratings = []\n",
    "    for item in items:\n",
    "        est_rating = algo.predict(customer_id, item).est\n",
    "        est_ratings.append((item, est_rating))\n",
    "    est_ratings.sort(key=lambda x: x[1], reverse=True)\n",
    "    top_recommendations = est_ratings[:top_n]\n",
    "    \n",
    "    recommendations = []\n",
    "    for stock_code, rating in top_recommendations:\n",
    "        product_name = df[df['StockCode'] == stock_code]['Description'].values[0]\n",
    "        recommendations.append((product_name, rating))\n",
    "    \n",
    "    return recommendations\n",
    "\n",
    "# Example: Get recommendations for a customer\n",
    "print(get_recommendations(12346))"
   ]
  },
  {
   "cell_type": "code",
   "execution_count": 6,
   "id": "47d707f0-5496-40c2-b339-d8d8996513a7",
   "metadata": {},
   "outputs": [
    {
     "name": "stdout",
     "output_type": "stream",
     "text": [
      "\u001b[33mWARNING: Skipping /Applications/anaconda3/lib/python3.11/site-packages/wrapt-1.14.1.dist-info due to invalid metadata entry 'name'\u001b[0m\u001b[33m\n",
      "\u001b[0mCollecting scikit-surprise\n",
      "  Using cached scikit_surprise-1.1.4-cp311-cp311-macosx_14_0_arm64.whl\n",
      "Requirement already satisfied: joblib>=1.2.0 in /Applications/anaconda3/lib/python3.11/site-packages (from scikit-surprise) (1.2.0)\n",
      "Requirement already satisfied: numpy>=1.19.5 in /Applications/anaconda3/lib/python3.11/site-packages (from scikit-surprise) (1.26.4)\n",
      "Requirement already satisfied: scipy>=1.6.0 in /Applications/anaconda3/lib/python3.11/site-packages (from scikit-surprise) (1.11.1)\n",
      "\u001b[33mWARNING: Skipping /Applications/anaconda3/lib/python3.11/site-packages/wrapt-1.14.1.dist-info due to invalid metadata entry 'name'\u001b[0m\u001b[33m\n",
      "\u001b[0mInstalling collected packages: scikit-surprise\n",
      "Successfully installed scikit-surprise-1.1.4\n",
      "\n",
      "\u001b[1m[\u001b[0m\u001b[34;49mnotice\u001b[0m\u001b[1;39;49m]\u001b[0m\u001b[39;49m A new release of pip is available: \u001b[0m\u001b[31;49m24.0\u001b[0m\u001b[39;49m -> \u001b[0m\u001b[32;49m24.1.1\u001b[0m\n",
      "\u001b[1m[\u001b[0m\u001b[34;49mnotice\u001b[0m\u001b[1;39;49m]\u001b[0m\u001b[39;49m To update, run: \u001b[0m\u001b[32;49mpip install --upgrade pip\u001b[0m\n"
     ]
    }
   ],
   "source": [
    "!pip install scikit-surprise"
   ]
  },
  {
   "cell_type": "code",
   "execution_count": 15,
   "id": "095de243-cd9b-42fe-83d4-839ad1b1dbe6",
   "metadata": {},
   "outputs": [
    {
     "data": {
      "text/plain": [
       "['repeat_purchase_model.pkl']"
      ]
     },
     "execution_count": 15,
     "metadata": {},
     "output_type": "execute_result"
    }
   ],
   "source": [
    " import joblib\n",
    "from sklearn.linear_model import LogisticRegression\n",
    "\n",
    "joblib.dump(model, 'customer_return_model.pkl')\n",
    "joblib.dump(model_repeat, 'repeat_purchase_model.pkl')"
   ]
  },
  {
   "cell_type": "code",
   "execution_count": null,
   "id": "9cf70e1f-59d3-4b9f-9432-df85b418bf08",
   "metadata": {},
   "outputs": [],
   "source": []
  }
 ],
 "metadata": {
  "kernelspec": {
   "display_name": "Python 3 (ipykernel)",
   "language": "python",
   "name": "python3"
  },
  "language_info": {
   "codemirror_mode": {
    "name": "ipython",
    "version": 3
   },
   "file_extension": ".py",
   "mimetype": "text/x-python",
   "name": "python",
   "nbconvert_exporter": "python",
   "pygments_lexer": "ipython3",
   "version": "3.11.5"
  }
 },
 "nbformat": 4,
 "nbformat_minor": 5
}
